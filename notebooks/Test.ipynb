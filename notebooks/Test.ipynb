{
 "cells": [
  {
   "cell_type": "code",
   "execution_count": 1,
   "metadata": {},
   "outputs": [],
   "source": [
    "import sys\n",
    "sys.path.append(\"../src\")\n",
    "\n",
    "import pandas as pd\n",
    "\n",
    "import plotly.graph_objs as go\n",
    "import plotly.offline as py\n",
    "\n",
    "import utilities as u\n",
    "import constants as c"
   ]
  },
  {
   "cell_type": "code",
   "execution_count": 2,
   "metadata": {},
   "outputs": [],
   "source": [
    "df_l = pd.read_excel(\"../data/data.xlsx\", \"liquid_m\", index_col=0)\n",
    "# Add total column\n",
    "if c.names.TOTAL in df_l.columns:\n",
    "    del df_l[c.names.TOTAL]\n",
    "\n",
    "df_l[c.names.TOTAL] = df_l.sum(axis=1)\n",
    "\n",
    "df_t = pd.read_excel(\"../data/data.xlsx\", \"trans_m\", index_col=0)\n",
    "df_t = u.dfs.fix_df_trans(df_t)"
   ]
  },
  {
   "cell_type": "code",
   "execution_count": 12,
   "metadata": {},
   "outputs": [],
   "source": [
    "def plot_expenses_vs_liquid(df_trans_in, df_liquid_in, avg_month=12):\n",
    "    \n",
    "    df_l = df_liquid_in.rolling(avg_month, min_periods=1).mean()\n",
    "    df_t = u.dfs.group_df_by(df_trans_in[df_trans_in[c.cols.TYPE] == c.names.EXPENSES], \"M\")\n",
    "    df_t = df_t.rolling(avg_month, min_periods=1).mean()\n",
    "\n",
    "    iter_data = [\n",
    "        (df_t, df_t[c.cols.AMOUNT], c.names.EXPENSES, c.colors.EXPENSES),\n",
    "        (df_t, 3*df_t[c.cols.AMOUNT], c.names.LIQUID_MIN_REC, c.colors.LIQUID_MIN_REC),\n",
    "        (df_t, 6*df_t[c.cols.AMOUNT], c.names.LIQUID_REC, c.colors.LIQUID_REC),\n",
    "        (df_l, df_l[c.names.TOTAL], c.names.LIQUID, c.colors.LIQUID),\n",
    "    ]\n",
    "    \n",
    "    data = [go.Scatter(x=df.index, y=y, name=name, marker={\"color\": color}) for df, y, name, color in iter_data]\n",
    "    \n",
    "    df_aux = df_l[c.names.TOTAL]/df_t[c.cols.AMOUNT]\n",
    "    data.append(go.Scatter(x=df_aux.index, y=df_aux, name=\"Months of expenses\", marker={\"color\": \"yellow\"}, yaxis='y2'))\n",
    "\n",
    "    layout = go.Layout(title=\"Liquid vs Expenses\", yaxis={\"title\": 'yaxis title'},\n",
    "        yaxis2={\n",
    "            \"title\": 'yaxis2 title',\n",
    "            \"overlaying\": 'y',\n",
    "            \"side\": 'right'\n",
    "        }\n",
    "        )\n",
    "    \n",
    "    py.plot(go.Figure(data=data, layout=layout))\n",
    "    \n",
    "plot_expenses_vs_liquid(df_t, df_l)"
   ]
  },
  {
   "cell_type": "code",
   "execution_count": null,
   "metadata": {},
   "outputs": [],
   "source": [
    "c.colors.L"
   ]
  }
 ],
 "metadata": {
  "kernelspec": {
   "display_name": "Python 3",
   "language": "python",
   "name": "python3"
  },
  "language_info": {
   "codemirror_mode": {
    "name": "ipython",
    "version": 3
   },
   "file_extension": ".py",
   "mimetype": "text/x-python",
   "name": "python",
   "nbconvert_exporter": "python",
   "pygments_lexer": "ipython3",
   "version": "3.6.3"
  }
 },
 "nbformat": 4,
 "nbformat_minor": 2
}
