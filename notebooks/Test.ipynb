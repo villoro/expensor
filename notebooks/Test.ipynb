{
 "cells": [
  {
   "cell_type": "code",
   "execution_count": 4,
   "metadata": {},
   "outputs": [],
   "source": [
    "import sys\n",
    "sys.path.append(\"../src\")\n",
    "\n",
    "import pandas as pd\n",
    "\n",
    "import plotly.graph_objs as go\n",
    "import plotly.offline as py\n",
    "\n",
    "import utilities as u\n",
    "import constants as c"
   ]
  },
  {
   "cell_type": "code",
   "execution_count": 11,
   "metadata": {},
   "outputs": [],
   "source": [
    "df_l = pd.read_excel(\"../data/data.xlsx\", \"liquid_m\", index_col=0)\n",
    "# Add total column\n",
    "if c.names.TOTAL in df_l.columns:\n",
    "    del df_l[c.names.TOTAL]\n",
    "\n",
    "df_l[c.names.TOTAL] = df_l.sum(axis=1)\n",
    "\n",
    "df_t = pd.read_excel(\"../data/data.xlsx\", \"trans_m\", index_col=0)\n",
    "df_t = u.dfs.fix_df_trans(df_t)"
   ]
  },
  {
   "cell_type": "code",
   "execution_count": 12,
   "metadata": {},
   "outputs": [],
   "source": [
    "df_t = u.dfs.group_df_by(df_t[df_t[c.cols.TYPE] == c.names.EXPENSES], \"M\")\n",
    "df_t = df_t.rolling(12, min_periods=1).mean()"
   ]
  },
  {
   "cell_type": "code",
   "execution_count": 13,
   "metadata": {},
   "outputs": [
    {
     "data": {
      "text/plain": [
       "Date\n",
       "2011-12-01    10.531464\n",
       "2012-01-01     9.700204\n",
       "2012-02-01     9.442228\n",
       "2012-03-01     9.436206\n",
       "2012-04-01     9.015481\n",
       "2012-05-01    10.194742\n",
       "2012-06-01    10.224493\n",
       "2012-07-01     8.432094\n",
       "2012-08-01     7.243886\n",
       "2012-09-01     7.346356\n",
       "2012-10-01     6.616522\n",
       "2012-11-01     6.746330\n",
       "2012-12-01     6.708467\n",
       "2013-01-01     7.107595\n",
       "2013-02-01     6.722949\n",
       "2013-03-01     6.933032\n",
       "2013-04-01     7.739603\n",
       "2013-05-01     9.075986\n",
       "2013-06-01    10.183835\n",
       "2013-07-01    13.873570\n",
       "2013-08-01    11.678960\n",
       "2013-09-01     9.332456\n",
       "2013-10-01     7.994978\n",
       "2013-11-01     7.808351\n",
       "2013-12-01     7.910961\n",
       "2014-01-01     7.812598\n",
       "2014-02-01     8.095542\n",
       "2014-03-01     8.618638\n",
       "2014-04-01     9.159604\n",
       "2014-05-01     9.797465\n",
       "                ...    \n",
       "2016-02-01     8.929011\n",
       "2016-03-01    12.744775\n",
       "2016-04-01     8.927131\n",
       "2016-05-01    13.309230\n",
       "2016-06-01    13.922927\n",
       "2016-07-01    20.036929\n",
       "2016-08-01    19.799660\n",
       "2016-09-01    13.729843\n",
       "2016-10-01    10.888426\n",
       "2016-11-01    10.632733\n",
       "2016-12-01    13.425034\n",
       "2017-01-01    12.365208\n",
       "2017-02-01    13.241686\n",
       "2017-03-01    11.473782\n",
       "2017-04-01     8.989305\n",
       "2017-05-01    10.325248\n",
       "2017-06-01     9.212695\n",
       "2017-07-01    11.396097\n",
       "2017-08-01    10.502052\n",
       "2017-09-01    12.889958\n",
       "2017-10-01    13.250196\n",
       "2017-11-01    12.001913\n",
       "2017-12-01    13.514960\n",
       "2018-01-01    13.814404\n",
       "2018-02-01    14.590163\n",
       "2018-03-01    16.179161\n",
       "2018-04-01    16.505675\n",
       "2018-05-01    17.481805\n",
       "2018-06-01    17.738398\n",
       "2018-07-01    17.398051\n",
       "Length: 80, dtype: float64"
      ]
     },
     "execution_count": 13,
     "metadata": {},
     "output_type": "execute_result"
    }
   ],
   "source": [
    "df_l[c.names.TOTAL]/df_t[c.cols.AMOUNT]"
   ]
  },
  {
   "cell_type": "code",
   "execution_count": null,
   "metadata": {},
   "outputs": [],
   "source": []
  }
 ],
 "metadata": {
  "kernelspec": {
   "display_name": "Python 3",
   "language": "python",
   "name": "python3"
  },
  "language_info": {
   "codemirror_mode": {
    "name": "ipython",
    "version": 3
   },
   "file_extension": ".py",
   "mimetype": "text/x-python",
   "name": "python",
   "nbconvert_exporter": "python",
   "pygments_lexer": "ipython3",
   "version": "3.6.3"
  }
 },
 "nbformat": 4,
 "nbformat_minor": 2
}
