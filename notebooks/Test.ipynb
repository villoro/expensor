{
 "cells": [
  {
   "cell_type": "code",
   "execution_count": 1,
   "metadata": {},
   "outputs": [],
   "source": [
    "import sys\n",
    "sys.path.append(\"../src\")\n",
    "\n",
    "import plotly.graph_objs as go\n",
    "import plotly.offline as py\n",
    "\n",
    "import utilities as u\n",
    "import constants as c"
   ]
  },
  {
   "cell_type": "code",
   "execution_count": 2,
   "metadata": {},
   "outputs": [
    {
     "data": {
      "text/plain": [
       "['app_comparison.py',\n",
       " 'app_evolution.py',\n",
       " 'app_heatmaps.py',\n",
       " 'app_pies.py',\n",
       " 'app_violins.py',\n",
       " '__init__.py',\n",
       " '__pycache__']"
      ]
     },
     "execution_count": 2,
     "metadata": {},
     "output_type": "execute_result"
    }
   ],
   "source": [
    "import os\n",
    "os.listdir(\"../src/app/pages\")"
   ]
  },
  {
   "cell_type": "code",
   "execution_count": 4,
   "metadata": {},
   "outputs": [],
   "source": [
    "exec(\"from utilities import ulog\")"
   ]
  },
  {
   "cell_type": "code",
   "execution_count": 6,
   "metadata": {},
   "outputs": [],
   "source": [
    "exec(\"log = ulog.set_logger()\")"
   ]
  },
  {
   "cell_type": "code",
   "execution_count": 7,
   "metadata": {},
   "outputs": [
    {
     "name": "stderr",
     "output_type": "stream",
     "text": [
      "INFO     [2018-04-24 18:40:15]                      | patata\n"
     ]
    }
   ],
   "source": [
    "log.info(\"patata\")"
   ]
  },
  {
   "cell_type": "code",
   "execution_count": 3,
   "metadata": {},
   "outputs": [],
   "source": [
    "from app.pages import app_comparison"
   ]
  },
  {
   "cell_type": "code",
   "execution_count": 4,
   "metadata": {},
   "outputs": [
    {
     "data": {
      "text/plain": [
       "'/comparison'"
      ]
     },
     "execution_count": 4,
     "metadata": {},
     "output_type": "execute_result"
    }
   ],
   "source": [
    "app_comparison.LINK"
   ]
  },
  {
   "cell_type": "code",
   "execution_count": 2,
   "metadata": {},
   "outputs": [],
   "source": [
    "from app import pages"
   ]
  },
  {
   "cell_type": "code",
   "execution_count": 3,
   "metadata": {},
   "outputs": [],
   "source": [
    "import os\n",
    "from flask import send_from_directory\n",
    "from dash import Dash\n",
    "\n",
    "import utilities as u\n",
    "import constants as c\n",
    "from app import layout\n",
    "\n",
    "\n",
    "APP = Dash()\n",
    "APP.config.supress_callback_exceptions = True\n",
    "APP.css.config.serve_locally = True\n",
    "\n",
    "DFG = u.uos.get_df(c.os.FILE_DATA_SAMPLE)\n",
    "CATEGORIES = DFG[c.cols.CATEGORY].unique().tolist()"
   ]
  },
  {
   "cell_type": "code",
   "execution_count": 4,
   "metadata": {},
   "outputs": [
    {
     "data": {
      "text/plain": [
       "{'/comparison': ([Div(children=Graph(id='plot_comp_i', figure={'data': [{'type': 'scatter', 'x': Int64Index([1, 2, 3, 4, 5, 6, 7, 8, 9, 10, 11, 12, 1, 2, 3, 4], dtype='int64', name='Month_date'), 'y': array([1150, 1250, 1200, 1200, 1250, 1100, 1200, 1480, 1300, 1305, 1350,\n",
       "          1540], dtype=int64), 'line': {'width': 1.0}, 'marker': {'color': '#66BB6A', 'size': 3}, 'name': 2017}, {'type': 'scatter', 'x': Int64Index([1, 2, 3, 4, 5, 6, 7, 8, 9, 10, 11, 12, 1, 2, 3, 4], dtype='int64', name='Month_date'), 'y': array([1380, 1300, 1350, 1330], dtype=int64), 'line': {'width': 1.5}, 'marker': {'color': '#1B5E20', 'size': 4}, 'name': 2018}], 'layout': {'title': 'Time comparison (Incomes)'}}, config={'displaylogo': False, 'modeBarButtonsToRemove': ['sendDataToCloud', 'select2d', 'lasso2d', 'resetScale2d']}), className='row', style={'text-align': 'center', 'padding-bottom': '15px', 'border-bottom': '2px solid #EEEEEE'}),\n",
       "   Div(children=Graph(id='plot_comp_e', figure={'data': [{'type': 'scatter', 'x': Int64Index([1, 2, 3, 4, 5, 6, 7, 8, 9, 10, 11, 12, 1, 2, 3, 4], dtype='int64', name='Month_date'), 'y': array([2407, 1142, 1550,  990,  946,  969, 1008, 1526,  887,  877,  946,\n",
       "          1575], dtype=int64), 'line': {'width': 1.0}, 'marker': {'color': '#EF5350', 'size': 3}, 'name': 2017}, {'type': 'scatter', 'x': Int64Index([1, 2, 3, 4, 5, 6, 7, 8, 9, 10, 11, 12, 1, 2, 3, 4], dtype='int64', name='Month_date'), 'y': array([ 777, 1330,  816,  714], dtype=int64), 'line': {'width': 1.5}, 'marker': {'color': '#B71C1C', 'size': 4}, 'name': 2018}], 'layout': {'title': 'Time comparison (Expenses)'}}, config={'displaylogo': False, 'modeBarButtonsToRemove': ['sendDataToCloud', 'select2d', 'lasso2d', 'resetScale2d']}), className='row', style={'text-align': 'center', 'padding-bottom': '15px', 'border-bottom': '2px solid #EEEEEE'})],\n",
       "  [Div(children=[H6('Sections:'), Div(Link(children='1. Evolution', href='/evolutiuon')), Div(Link(children='2. Comparison', href='/comparison')), Div(Link(children='3. Pies', href='/pies')), Div(Link(children='4. Heatmaps', href='/heatmaps')), Div(Link(children='5. Violins', href='/violins'))], style={'padding-bottom': '15px', 'border-bottom': '1px solid #BDBDBD'}),\n",
       "   Div(children=[H6('Categories:'), Dropdown(id='category', options=[{'label': 'Rent', 'value': 'Rent'}, {'label': 'Food', 'value': 'Food'}, {'label': 'Transport', 'value': 'Transport'}, {'label': 'Salary', 'value': 'Salary'}, {'label': 'Bonus', 'value': 'Bonus'}, {'label': 'Shopping', 'value': 'Shopping'}, {'label': 'Bills', 'value': 'Bills'}, {'label': 'Health', 'value': 'Health'}, {'label': 'Travel', 'value': 'Travel'}, {'label': 'Others', 'value': 'Others'}], multi=True)], style={'padding-bottom': '15px', 'border-bottom': '1px solid #BDBDBD'})])}"
      ]
     },
     "execution_count": 4,
     "metadata": {},
     "output_type": "execute_result"
    }
   ],
   "source": [
    "pages.get_pages(APP, DFG, CATEGORIES)"
   ]
  },
  {
   "cell_type": "code",
   "execution_count": null,
   "metadata": {},
   "outputs": [],
   "source": []
  }
 ],
 "metadata": {
  "kernelspec": {
   "display_name": "Python 3",
   "language": "python",
   "name": "python3"
  },
  "language_info": {
   "codemirror_mode": {
    "name": "ipython",
    "version": 3
   },
   "file_extension": ".py",
   "mimetype": "text/x-python",
   "name": "python",
   "nbconvert_exporter": "python",
   "pygments_lexer": "ipython3",
   "version": "3.6.3"
  }
 },
 "nbformat": 4,
 "nbformat_minor": 2
}
